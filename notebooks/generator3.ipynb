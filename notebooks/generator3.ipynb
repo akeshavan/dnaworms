{
 "metadata": {
  "name": "generator3"
 },
 "nbformat": 3,
 "nbformat_minor": 0,
 "worksheets": [
  {
   "cells": [
    {
     "cell_type": "code",
     "collapsed": false,
     "input": [
      "%pylab inline"
     ],
     "language": "python",
     "metadata": {},
     "outputs": [
      {
       "output_type": "stream",
       "stream": "stdout",
       "text": [
        "\n",
        "Welcome to pylab, a matplotlib-based Python environment [backend: module://IPython.zmq.pylab.backend_inline].\n",
        "For more information, type 'help(pylab)'.\n"
       ]
      }
     ],
     "prompt_number": 1
    },
    {
     "cell_type": "code",
     "collapsed": false,
     "input": [
      "import sys\n",
      "import os\n",
      "sys.path.append(os.path.abspath('../'))\n",
      "from generator import NoodleBase"
     ],
     "language": "python",
     "metadata": {},
     "outputs": [
      {
       "output_type": "stream",
       "stream": "stderr",
       "text": [
        "/Users/keshavan/Library/Enthought/Canopy_64bit/User/lib/python2.7/site-packages/matplotlib/__init__.py:1141: UserWarning:  This call to matplotlib.use() has no effect\n",
        "because the the backend has already been chosen;\n",
        "matplotlib.use() must be called *before* pylab, matplotlib.pyplot,\n",
        "or matplotlib.backends is imported for the first time.\n",
        "\n",
        "  warnings.warn(_use_error_msg)\n"
       ]
      }
     ],
     "prompt_number": 3
    },
    {
     "cell_type": "code",
     "collapsed": false,
     "input": [
      "self = NoodleBase()"
     ],
     "language": "python",
     "metadata": {},
     "outputs": [],
     "prompt_number": 16
    },
    {
     "cell_type": "heading",
     "level": 3,
     "metadata": {},
     "source": [
      "We want a function that shows us valid crossovers for each Helix-Helix"
     ]
    },
    {
     "cell_type": "code",
     "collapsed": false,
     "input": [
      "def _print_staple_crossovers(self):\n",
      "    helices = self.helices\n",
      "    Xs = self.Xs\n",
      "    for helix,data in helices.iteritems():\n",
      "        neighbors = np.unique(data)[1:]\n",
      "        for n in neighbors:\n",
      "            print helix, \"-->\", int(n), np.nonzero(data==n)[0]"
     ],
     "language": "python",
     "metadata": {},
     "outputs": [],
     "prompt_number": 17
    },
    {
     "cell_type": "code",
     "collapsed": false,
     "input": [
      "_print_staple_crossovers(self)"
     ],
     "language": "python",
     "metadata": {},
     "outputs": [
      {
       "output_type": "stream",
       "stream": "stdout",
       "text": [
        "0 --> 1 [ 0 20 21 41 42 62 63 83 84]\n",
        "0 --> 5 [ 6  7 27 28 48 49 69 70]\n",
        "1 --> 0 [ 0 20 21 41 42 62 63 83 84]\n",
        "1 --> 2 [13 14 34 35 55 56 76 77]\n",
        "2 --> 1 [13 14 34 35 55 56 76 77]\n",
        "2 --> 3 [ 6  7 27 28 48 49 69 70]\n",
        "3 --> 2 [ 6  7 27 28 48 49 69 70]\n",
        "3 --> 4 [ 0 20 21 41 42 62 63 83 84]\n",
        "4 --> 3 [ 0 20 21 41 42 62 63 83 84]\n",
        "4 --> 5 [13 14 34 35 55 56 76 77]\n",
        "5 --> 0 [ 6  7 27 28 48 49 69 70]\n",
        "5 --> 4 [13 14 34 35 55 56 76 77]\n"
       ]
      }
     ],
     "prompt_number": 18
    },
    {
     "cell_type": "heading",
     "level": 3,
     "metadata": {},
     "source": [
      "We want to write a function that adds a staple crossover"
     ]
    },
    {
     "cell_type": "markdown",
     "metadata": {},
     "source": [
      "1. First check if inputs are valid (from helix, index,to helix, index\n",
      "2. Then fill Xs vector for **both** helices\n",
      "3. Last, **validate** again"
     ]
    },
    {
     "cell_type": "code",
     "collapsed": false,
     "input": [
      "def stapleX(self,helix1,helix2,idx):\n",
      "    helices = self.helices\n",
      "    #validate\n",
      "    if not helices[helix1][idx] == helix2:\n",
      "        raise(Exception(\"Incorrect inputs\"))\n",
      "    \n",
      "    #assign\n",
      "    self.Xs[helix1][idx] = True\n",
      "    self.Xs[helix2][idx] = True\n",
      "    \n",
      "    #validate everything\n",
      "    self.validate_crossovers()\n",
      "    "
     ],
     "language": "python",
     "metadata": {},
     "outputs": [],
     "prompt_number": 20
    },
    {
     "cell_type": "code",
     "collapsed": false,
     "input": [
      "stapleX(self,0,1,20)\n",
      "stapleX(self,0,1,21)\n",
      "stapleX(self,2,1,13)"
     ],
     "language": "python",
     "metadata": {},
     "outputs": [],
     "prompt_number": 25
    },
    {
     "cell_type": "code",
     "collapsed": false,
     "input": [
      "self.plot_staples()"
     ],
     "language": "python",
     "metadata": {},
     "outputs": [
      {
       "output_type": "display_data",
       "png": "[encoded data removed]"
      }
     ],
     "prompt_number": 26
    },
    {
     "cell_type": "heading",
     "level": 3,
     "metadata": {},
     "source": [
      "A function that adds staple kinks"
     ]
    },
    {
     "cell_type": "code",
     "collapsed": false,
     "input": [
      "def stapleK(self,helix,idx):\n",
      "    #validate: can't break if there is a crossover there.\n",
      "    if self.Xs[helix][idx]:\n",
      "        raise Exception(\"There is a crossover at %d %d\"%(helix, idx))\n",
      "    self.Ks[helix][idx] = True\n",
      "    self.validate_kinks()"
     ],
     "language": "python",
     "metadata": {},
     "outputs": [],
     "prompt_number": 34
    },
    {
     "cell_type": "code",
     "collapsed": false,
     "input": [
      "stapleK(self,0,14)\n",
      "stapleK(self,1,35)"
     ],
     "language": "python",
     "metadata": {},
     "outputs": [],
     "prompt_number": 35
    },
    {
     "cell_type": "code",
     "collapsed": false,
     "input": [
      "self.plot_staples()"
     ],
     "language": "python",
     "metadata": {},
     "outputs": [
      {
       "output_type": "display_data",
       "png": "[encoded data removed]"
      }
     ],
     "prompt_number": 36
    },
    {
     "cell_type": "heading",
     "level": 3,
     "metadata": {},
     "source": [
      "Show us valid scaffold crossovers"
     ]
    },
    {
     "cell_type": "code",
     "collapsed": false,
     "input": [
      "def _print_scaffold_crossovers(self):\n",
      "    helices = self.scaf_helices\n",
      "    Xs = self.scaf_Xs\n",
      "    for helix,data in helices.iteritems():\n",
      "        neighbors = np.unique(data)[1:]\n",
      "        for n in neighbors:\n",
      "            print helix, \"-->\", int(n), np.nonzero(data==n)[0]"
     ],
     "language": "python",
     "metadata": {},
     "outputs": [],
     "prompt_number": 38
    },
    {
     "cell_type": "heading",
     "level": 3,
     "metadata": {},
     "source": [
      "A function that adds a scaffold crossover"
     ]
    },
    {
     "cell_type": "code",
     "collapsed": false,
     "input": [
      "def scaffX(self,helix1,helix2,idx):\n",
      "    helices = self.scaf_helices\n",
      "    #validate\n",
      "    if not helices[helix1][idx] == helix2:\n",
      "        raise(Exception(\"Incorrect inputs\"))\n",
      "    \n",
      "    #assign\n",
      "    self.scaf_Xs[helix1][idx] = True\n",
      "    self.scaf_Xs[helix2][idx] = True\n",
      "    \n",
      "    #validate everything\n",
      "    self.validate_crossovers()"
     ],
     "language": "python",
     "metadata": {},
     "outputs": [],
     "prompt_number": 37
    },
    {
     "cell_type": "code",
     "collapsed": false,
     "input": [
      "_print_scaffold_crossovers(self)"
     ],
     "language": "python",
     "metadata": {},
     "outputs": [
      {
       "output_type": "stream",
       "stream": "stdout",
       "text": [
        "0 --> 1 [ 5 15 16 25 26 36 37 46 47 57 58 67 68 78 79]\n",
        "0 --> 5 [ 1  2 11 12 22 23 32 33 43 44 53 54 64 65 74 75]\n",
        "1 --> 0 [ 5 15 16 25 26 36 37 46 47 57 58 67 68 78 79]\n",
        "1 --> 2 [ 8  9 18 19 29 30 39 40 50 51 60 61 71 72 81 82]\n",
        "2 --> 1 [ 8  9 18 19 29 30 39 40 50 51 60 61 71 72 81 82]\n",
        "2 --> 3 [ 1  2 11 12 22 23 32 33 43 44 53 54 64 65 74 75]\n",
        "3 --> 2 [ 1  2 11 12 22 23 32 33 43 44 53 54 64 65 74 75]\n",
        "3 --> 4 [ 5 15 16 25 26 36 37 46 47 57 58 67 68 78 79]\n",
        "4 --> 3 [ 5 15 16 25 26 36 37 46 47 57 58 67 68 78 79]\n",
        "4 --> 5 [ 8  9 18 19 29 30 39 40 50 51 60 61 71 72 81 82]\n",
        "5 --> 0 [ 1  2 11 12 22 23 32 33 43 44 53 54 64 65 74 75]\n",
        "5 --> 4 [ 8  9 18 19 29 30 39 40 50 51 60 61 71 72 81 82]\n"
       ]
      }
     ],
     "prompt_number": 39
    },
    {
     "cell_type": "code",
     "collapsed": false,
     "input": [
      "scaffX(self,0,5,1)\n",
      "scaffX(self,0,5,2)\n",
      "scaffX(self,2,3,12)\n",
      "scaffX(self,2,3,11)\n",
      "scaffX(self,4,3,36)"
     ],
     "language": "python",
     "metadata": {},
     "outputs": [],
     "prompt_number": 43
    },
    {
     "cell_type": "code",
     "collapsed": false,
     "input": [
      "self.plot_scaffold()"
     ],
     "language": "python",
     "metadata": {},
     "outputs": [
      {
       "output_type": "display_data",
       "png": "[encoded data removed]"
      }
     ],
     "prompt_number": 44
    },
    {
     "cell_type": "code",
     "collapsed": false,
     "input": [],
     "language": "python",
     "metadata": {},
     "outputs": []
    }
   ],
   "metadata": {}
  }
 ]
}